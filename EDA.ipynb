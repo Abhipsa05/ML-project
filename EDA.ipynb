{
 "cells": [
  {
   "cell_type": "code",
   "execution_count": 2,
   "id": "colonial-chase",
   "metadata": {},
   "outputs": [
    {
     "name": "stdout",
     "output_type": "stream",
     "text": [
      "      Hardwork     Skills   Label\n",
      "0     1.483358   6.135020  C Tier\n",
      "1    52.864104  48.897037  B Tier\n",
      "2    67.556683  19.359183  D Tier\n",
      "3    52.797684  43.650076  B Tier\n",
      "4    45.060080  74.978268  B Tier\n",
      "..         ...        ...     ...\n",
      "455  48.414533  53.807818  B Tier\n",
      "456  49.534222  54.425778  B Tier\n",
      "457  30.457458  40.396009  B Tier\n",
      "458   2.277720   5.085407  C Tier\n",
      "459  37.012233  51.093717  B Tier\n",
      "\n",
      "[460 rows x 3 columns]\n"
     ]
    }
   ],
   "source": [
    "import numpy as n\n",
    "import pandas as p\n",
    "import matplotlib.pyplot as m\n",
    "data= p.read_csv(\"kmeans_dataset.csv\")\n",
    "x=n.array(data)\n",
    "print(data)"
   ]
  },
  {
   "cell_type": "code",
   "execution_count": 3,
   "id": "noticed-belly",
   "metadata": {},
   "outputs": [],
   "source": [
    "X=[]\n",
    "Y=[]\n",
    "for i in range(len(x)):\n",
    "    X.append(x[i][0])\n",
    "    Y.append(x[i][1])"
   ]
  },
  {
   "cell_type": "code",
   "execution_count": 4,
   "id": "inside-validity",
   "metadata": {},
   "outputs": [
    {
     "data": {
      "image/png": "[encoded data removed]",
      "text/plain": [
       "<Figure size 432x288 with 1 Axes>"
      ]
     },
     "metadata": {
      "needs_background": "light"
     },
     "output_type": "display_data"
    }
   ],
   "source": [
    "m.scatter(Y,X)\n",
    "m.show()"
   ]
  },
  {
   "cell_type": "code",
   "execution_count": 5,
   "id": "impossible-lodge",
   "metadata": {},
   "outputs": [
    {
     "data": {
      "text/html": [
       "<div>\n",
       "<style scoped>\n",
       "    .dataframe tbody tr th:only-of-type {\n",
       "        vertical-align: middle;\n",
       "    }\n",
       "\n",
       "    .dataframe tbody tr th {\n",
       "        vertical-align: top;\n",
       "    }\n",
       "\n",
       "    .dataframe thead th {\n",
       "        text-align: right;\n",
       "    }\n",
       "</style>\n",
       "<table border=\"1\" class=\"dataframe\">\n",
       "  <thead>\n",
       "    <tr style=\"text-align: right;\">\n",
       "      <th></th>\n",
       "      <th>Hardwork</th>\n",
       "      <th>Skills</th>\n",
       "    </tr>\n",
       "  </thead>\n",
       "  <tbody>\n",
       "    <tr>\n",
       "      <th>count</th>\n",
       "      <td>460.000000</td>\n",
       "      <td>460.000000</td>\n",
       "    </tr>\n",
       "    <tr>\n",
       "      <th>mean</th>\n",
       "      <td>47.019178</td>\n",
       "      <td>38.439590</td>\n",
       "    </tr>\n",
       "    <tr>\n",
       "      <th>std</th>\n",
       "      <td>24.895360</td>\n",
       "      <td>26.136017</td>\n",
       "    </tr>\n",
       "    <tr>\n",
       "      <th>min</th>\n",
       "      <td>0.712341</td>\n",
       "      <td>1.447058</td>\n",
       "    </tr>\n",
       "    <tr>\n",
       "      <th>25%</th>\n",
       "      <td>25.287181</td>\n",
       "      <td>13.987334</td>\n",
       "    </tr>\n",
       "    <tr>\n",
       "      <th>50%</th>\n",
       "      <td>48.519039</td>\n",
       "      <td>38.515372</td>\n",
       "    </tr>\n",
       "    <tr>\n",
       "      <th>75%</th>\n",
       "      <td>67.467031</td>\n",
       "      <td>60.161463</td>\n",
       "    </tr>\n",
       "    <tr>\n",
       "      <th>max</th>\n",
       "      <td>97.618528</td>\n",
       "      <td>95.704652</td>\n",
       "    </tr>\n",
       "  </tbody>\n",
       "</table>\n",
       "</div>"
      ],
      "text/plain": [
       "         Hardwork      Skills\n",
       "count  460.000000  460.000000\n",
       "mean    47.019178   38.439590\n",
       "std     24.895360   26.136017\n",
       "min      0.712341    1.447058\n",
       "25%     25.287181   13.987334\n",
       "50%     48.519039   38.515372\n",
       "75%     67.467031   60.161463\n",
       "max     97.618528   95.704652"
      ]
     },
     "execution_count": 5,
     "metadata": {},
     "output_type": "execute_result"
    }
   ],
   "source": [
    "data.describe()"
   ]
  },
  {
   "cell_type": "code",
   "execution_count": 6,
   "id": "informed-michigan",
   "metadata": {},
   "outputs": [
    {
     "name": "stdout",
     "output_type": "stream",
     "text": [
      "<class 'pandas.core.frame.DataFrame'>\n",
      "RangeIndex: 460 entries, 0 to 459\n",
      "Data columns (total 3 columns):\n",
      " #   Column    Non-Null Count  Dtype  \n",
      "---  ------    --------------  -----  \n",
      " 0   Hardwork  460 non-null    float64\n",
      " 1   Skills    460 non-null    float64\n",
      " 2   Label     460 non-null    object \n",
      "dtypes: float64(2), object(1)\n",
      "memory usage: 10.9+ KB\n"
     ]
    }
   ],
   "source": [
    "data.info()"
   ]
  },
  {
   "cell_type": "code",
   "execution_count": 11,
   "id": "heated-hospital",
   "metadata": {},
   "outputs": [
    {
     "data": {
      "image/png": "[encoded data removed]",
      "text/plain": [
       "<Figure size 432x288 with 1 Axes>"
      ]
     },
     "metadata": {},
     "output_type": "display_data"
    }
   ],
   "source": [
    "label =['Tier A','Tier B','Tier c','Tier D']\n",
    "people=[38,203,110,109]\n",
    "m.pie(people,labels=label,autopct='%0.2f%%')\n",
    "m.show()"
   ]
  },
  {
   "cell_type": "code",
   "execution_count": null,
   "id": "brazilian-rogers",
   "metadata": {},
   "outputs": [],
   "source": []
  }
 ],
 "metadata": {
  "kernelspec": {
   "display_name": "Python 3",
   "language": "python",
   "name": "python3"
  },
  "language_info": {
   "codemirror_mode": {
    "name": "ipython",
    "version": 3
   },
   "file_extension": ".py",
   "mimetype": "text/x-python",
   "name": "python",
   "nbconvert_exporter": "python",
   "pygments_lexer": "ipython3",
   "version": "3.9.2"
  }
 },
 "nbformat": 4,
 "nbformat_minor": 5
}
